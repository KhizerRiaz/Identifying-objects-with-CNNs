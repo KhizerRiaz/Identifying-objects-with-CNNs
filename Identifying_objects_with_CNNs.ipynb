{
  "cells": [
    {
      "cell_type": "code",
      "execution_count": 4,
      "id": "07ba395f",
      "metadata": {
        "id": "07ba395f"
      },
      "outputs": [],
      "source": [
        "import numpy as np\n",
        "from keras.datasets import cifar10\n",
        "from tensorflow.keras.utils import to_categorical\n",
        "from keras.models import Sequential\n",
        "from keras.layers import Conv2D , MaxPooling2D , Dense , Flatten , Dropout \n",
        "from tensorflow.keras.optimizers import SGD\n",
        "from keras.layers import BatchNormalization"
      ]
    },
    {
      "cell_type": "code",
      "source": [
        "!ln -sf /opt/bin/nvidia-smi /usr/bin/nvidia-smi\n",
        "!pip install gputil\n",
        "!pip install psutil\n",
        "!pip install humanize\n",
        "import psutil\n",
        "import humanize\n",
        "import os\n",
        "import GPUtil as GPU\n",
        "GPUs = GPU.getGPUs()\n",
        "# XXX: only one GPU on Colab and isn’t guaranteed\n",
        "gpu = GPUs[0]\n",
        "def printm():\n",
        " process = psutil.Process(os.getpid())\n",
        " print(\"Gen RAM Free: \" + humanize.naturalsize( psutil.virtual_memory().available ), \" | Proc size: \" + humanize.naturalsize( process.memory_info().rss))\n",
        " print(\"GPU RAM Free: {0:.0f}MB | Used: {1:.0f}MB | Util {2:3.0f}% | Total {3:.0f}MB\".format(gpu.memoryFree, gpu.memoryUsed, gpu.memoryUtil*100, gpu.memoryTotal))\n",
        "printm()"
      ],
      "metadata": {
        "colab": {
          "base_uri": "https://localhost:8080/"
        },
        "id": "rpEpf4z4MozH",
        "outputId": "275cef1b-8d7b-4b94-f488-568a6e26fccf"
      },
      "id": "rpEpf4z4MozH",
      "execution_count": 3,
      "outputs": [
        {
          "output_type": "stream",
          "name": "stdout",
          "text": [
            "Looking in indexes: https://pypi.org/simple, https://us-python.pkg.dev/colab-wheels/public/simple/\n",
            "Collecting gputil\n",
            "  Downloading GPUtil-1.4.0.tar.gz (5.5 kB)\n",
            "Building wheels for collected packages: gputil\n",
            "  Building wheel for gputil (setup.py) ... \u001b[?25l\u001b[?25hdone\n",
            "  Created wheel for gputil: filename=GPUtil-1.4.0-py3-none-any.whl size=7411 sha256=4afafbd548bdf9a2f4e2b919efdc30934201bccc8ed42a10b35b441328d839f7\n",
            "  Stored in directory: /root/.cache/pip/wheels/6e/f8/83/534c52482d6da64622ddbf72cd93c35d2ef2881b78fd08ff0c\n",
            "Successfully built gputil\n",
            "Installing collected packages: gputil\n",
            "Successfully installed gputil-1.4.0\n",
            "Looking in indexes: https://pypi.org/simple, https://us-python.pkg.dev/colab-wheels/public/simple/\n",
            "Requirement already satisfied: psutil in /usr/local/lib/python3.7/dist-packages (5.4.8)\n",
            "Looking in indexes: https://pypi.org/simple, https://us-python.pkg.dev/colab-wheels/public/simple/\n",
            "Requirement already satisfied: humanize in /usr/local/lib/python3.7/dist-packages (0.5.1)\n",
            "Gen RAM Free: 12.4 GB  | Proc size: 544.0 MB\n",
            "GPU RAM Free: 15109MB | Used: 0MB | Util   0% | Total 15109MB\n"
          ]
        }
      ]
    },
    {
      "cell_type": "code",
      "execution_count": 5,
      "id": "98065a9a",
      "metadata": {
        "id": "98065a9a",
        "colab": {
          "base_uri": "https://localhost:8080/"
        },
        "outputId": "23379e38-a0bf-498e-b6f7-6b25f83cee30"
      },
      "outputs": [
        {
          "output_type": "stream",
          "name": "stdout",
          "text": [
            "Downloading data from https://www.cs.toronto.edu/~kriz/cifar-10-python.tar.gz\n",
            "170500096/170498071 [==============================] - 4s 0us/step\n",
            "170508288/170498071 [==============================] - 4s 0us/step\n"
          ]
        }
      ],
      "source": [
        "(x_train , y_train) , (x_test , y_test) = cifar10.load_data()"
      ]
    },
    {
      "cell_type": "code",
      "source": [
        "# One Hot Encoding\n",
        "# print(np.unique(y_train))\n",
        "\n",
        "y_train = to_categorical(y_train)\n",
        "y_test = to_categorical(y_test)\n"
      ],
      "metadata": {
        "id": "FguxzWvtLM7Q"
      },
      "id": "FguxzWvtLM7Q",
      "execution_count": 6,
      "outputs": []
    },
    {
      "cell_type": "code",
      "source": [
        "# Normalization\n",
        "x_train = x_train.astype('float32')\n",
        "x_test = x_test.astype('float32')\n",
        "\n",
        "x_train/=255\n",
        "x_test/=255"
      ],
      "metadata": {
        "id": "I7oei7H5NBwF"
      },
      "id": "I7oei7H5NBwF",
      "execution_count": 7,
      "outputs": []
    },
    {
      "cell_type": "code",
      "source": [
        "model = Sequential()\n",
        "\n",
        "# kernel_initializer = 'he_uniform' . Weights assigned would be uniform\n",
        "\n",
        "model.add(Conv2D(32 , (3,3) , padding = 'same' , activation = 'relu' , kernel_initializer = 'he_uniform' , input_shape = (32,32,3)))\n",
        "model.add(Conv2D(32 , (3,3) , padding = 'same' , activation = 'relu' , kernel_initializer = 'he_uniform'))\n",
        "model.add(MaxPooling2D((2,2)))\n",
        "model.add(Flatten())\n",
        "model.add(Dense(128 , activation = 'relu' , kernel_initializer = 'he_uniform'))\n",
        "model.add(Dense(10 , activation = 'softmax'))\n",
        "\n",
        "print(model.summary())\n",
        "\n"
      ],
      "metadata": {
        "colab": {
          "base_uri": "https://localhost:8080/"
        },
        "id": "ak87J1cJNNoq",
        "outputId": "8bbec740-6275-4027-e770-c98a0eadad75"
      },
      "id": "ak87J1cJNNoq",
      "execution_count": null,
      "outputs": [
        {
          "output_type": "stream",
          "name": "stdout",
          "text": [
            "Model: \"sequential_1\"\n",
            "_________________________________________________________________\n",
            " Layer (type)                Output Shape              Param #   \n",
            "=================================================================\n",
            " conv2d_2 (Conv2D)           (None, 32, 32, 32)        896       \n",
            "                                                                 \n",
            " conv2d_3 (Conv2D)           (None, 32, 32, 32)        9248      \n",
            "                                                                 \n",
            " max_pooling2d_1 (MaxPooling  (None, 16, 16, 32)       0         \n",
            " 2D)                                                             \n",
            "                                                                 \n",
            " flatten_1 (Flatten)         (None, 8192)              0         \n",
            "                                                                 \n",
            " dense_2 (Dense)             (None, 128)               1048704   \n",
            "                                                                 \n",
            " dense_3 (Dense)             (None, 10)                1290      \n",
            "                                                                 \n",
            "=================================================================\n",
            "Total params: 1,060,138\n",
            "Trainable params: 1,060,138\n",
            "Non-trainable params: 0\n",
            "_________________________________________________________________\n",
            "None\n"
          ]
        }
      ]
    },
    {
      "cell_type": "code",
      "source": [
        "optimizer = SGD(learning_rate = 0.001 , momentum = 0.95)\n",
        "\n",
        "model.compile(optimizer = optimizer , loss = 'categorical_crossentropy' , metrics = ['accuracy'])\n",
        "model.fit(x_train , y_train , epochs = 50 , batch_size = 64 , verbose = 1 , validation_data = (x_test , y_test))"
      ],
      "metadata": {
        "colab": {
          "base_uri": "https://localhost:8080/"
        },
        "id": "xuBKLramOKAT",
        "outputId": "a8c51c8c-0fd1-4f1e-abee-2e8fb88cddf2"
      },
      "id": "xuBKLramOKAT",
      "execution_count": null,
      "outputs": [
        {
          "output_type": "stream",
          "name": "stdout",
          "text": [
            "Epoch 1/50\n",
            "782/782 [==============================] - 16s 6ms/step - loss: 1.6493 - accuracy: 0.4102 - val_loss: 1.3781 - val_accuracy: 0.5041\n",
            "Epoch 2/50\n",
            "782/782 [==============================] - 5s 6ms/step - loss: 1.3043 - accuracy: 0.5378 - val_loss: 1.2135 - val_accuracy: 0.5766\n",
            "Epoch 3/50\n",
            "782/782 [==============================] - 5s 6ms/step - loss: 1.1540 - accuracy: 0.5920 - val_loss: 1.1571 - val_accuracy: 0.5932\n",
            "Epoch 4/50\n",
            "782/782 [==============================] - 5s 6ms/step - loss: 1.0411 - accuracy: 0.6331 - val_loss: 1.0937 - val_accuracy: 0.6105\n",
            "Epoch 5/50\n",
            "782/782 [==============================] - 5s 6ms/step - loss: 0.9440 - accuracy: 0.6668 - val_loss: 1.0144 - val_accuracy: 0.6438\n",
            "Epoch 6/50\n",
            "782/782 [==============================] - 4s 6ms/step - loss: 0.8644 - accuracy: 0.6977 - val_loss: 0.9958 - val_accuracy: 0.6534\n",
            "Epoch 7/50\n",
            "782/782 [==============================] - 5s 6ms/step - loss: 0.7920 - accuracy: 0.7262 - val_loss: 0.9670 - val_accuracy: 0.6670\n",
            "Epoch 8/50\n",
            "782/782 [==============================] - 5s 6ms/step - loss: 0.7259 - accuracy: 0.7499 - val_loss: 0.9509 - val_accuracy: 0.6723\n",
            "Epoch 9/50\n",
            "782/782 [==============================] - 4s 6ms/step - loss: 0.6648 - accuracy: 0.7702 - val_loss: 0.9697 - val_accuracy: 0.6701\n",
            "Epoch 10/50\n",
            "782/782 [==============================] - 4s 5ms/step - loss: 0.6016 - accuracy: 0.7945 - val_loss: 0.9458 - val_accuracy: 0.6829\n",
            "Epoch 11/50\n",
            "782/782 [==============================] - 4s 5ms/step - loss: 0.5378 - accuracy: 0.8162 - val_loss: 0.9790 - val_accuracy: 0.6801\n",
            "Epoch 12/50\n",
            "782/782 [==============================] - 5s 6ms/step - loss: 0.4742 - accuracy: 0.8393 - val_loss: 1.0010 - val_accuracy: 0.6808\n",
            "Epoch 13/50\n",
            "782/782 [==============================] - 4s 6ms/step - loss: 0.4152 - accuracy: 0.8601 - val_loss: 1.0452 - val_accuracy: 0.6777\n",
            "Epoch 14/50\n",
            "782/782 [==============================] - 5s 6ms/step - loss: 0.3469 - accuracy: 0.8859 - val_loss: 1.1022 - val_accuracy: 0.6778\n",
            "Epoch 15/50\n",
            "782/782 [==============================] - 4s 6ms/step - loss: 0.2901 - accuracy: 0.9062 - val_loss: 1.1656 - val_accuracy: 0.6764\n",
            "Epoch 16/50\n",
            "782/782 [==============================] - 5s 6ms/step - loss: 0.2295 - accuracy: 0.9284 - val_loss: 1.2588 - val_accuracy: 0.6650\n",
            "Epoch 17/50\n",
            "782/782 [==============================] - 5s 6ms/step - loss: 0.1902 - accuracy: 0.9413 - val_loss: 1.3174 - val_accuracy: 0.6727\n",
            "Epoch 18/50\n",
            "782/782 [==============================] - 4s 6ms/step - loss: 0.1371 - accuracy: 0.9624 - val_loss: 1.4214 - val_accuracy: 0.6706\n",
            "Epoch 19/50\n",
            "782/782 [==============================] - 5s 6ms/step - loss: 0.1006 - accuracy: 0.9754 - val_loss: 1.5193 - val_accuracy: 0.6674\n",
            "Epoch 20/50\n",
            "782/782 [==============================] - 5s 6ms/step - loss: 0.0771 - accuracy: 0.9822 - val_loss: 1.5801 - val_accuracy: 0.6726\n",
            "Epoch 21/50\n",
            "782/782 [==============================] - 4s 6ms/step - loss: 0.0516 - accuracy: 0.9904 - val_loss: 1.6589 - val_accuracy: 0.6751\n",
            "Epoch 22/50\n",
            "782/782 [==============================] - 5s 6ms/step - loss: 0.0321 - accuracy: 0.9961 - val_loss: 1.7380 - val_accuracy: 0.6755\n",
            "Epoch 23/50\n",
            "782/782 [==============================] - 5s 6ms/step - loss: 0.0218 - accuracy: 0.9981 - val_loss: 1.8238 - val_accuracy: 0.6767\n",
            "Epoch 24/50\n",
            "782/782 [==============================] - 5s 6ms/step - loss: 0.0148 - accuracy: 0.9990 - val_loss: 1.8805 - val_accuracy: 0.6797\n",
            "Epoch 25/50\n",
            "782/782 [==============================] - 4s 6ms/step - loss: 0.0101 - accuracy: 0.9995 - val_loss: 1.9340 - val_accuracy: 0.6782\n",
            "Epoch 26/50\n",
            "782/782 [==============================] - 4s 6ms/step - loss: 0.0090 - accuracy: 0.9995 - val_loss: 1.9936 - val_accuracy: 0.6775\n",
            "Epoch 27/50\n",
            "782/782 [==============================] - 4s 6ms/step - loss: 0.0061 - accuracy: 0.9997 - val_loss: 2.0563 - val_accuracy: 0.6762\n",
            "Epoch 28/50\n",
            "782/782 [==============================] - 4s 6ms/step - loss: 0.0049 - accuracy: 0.9999 - val_loss: 2.0824 - val_accuracy: 0.6817\n",
            "Epoch 29/50\n",
            "782/782 [==============================] - 4s 6ms/step - loss: 0.0042 - accuracy: 0.9999 - val_loss: 2.1309 - val_accuracy: 0.6791\n",
            "Epoch 30/50\n",
            "782/782 [==============================] - 4s 6ms/step - loss: 0.0038 - accuracy: 0.9999 - val_loss: 2.1414 - val_accuracy: 0.6806\n",
            "Epoch 31/50\n",
            "782/782 [==============================] - 4s 6ms/step - loss: 0.0030 - accuracy: 1.0000 - val_loss: 2.1699 - val_accuracy: 0.6827\n",
            "Epoch 32/50\n",
            "782/782 [==============================] - 5s 6ms/step - loss: 0.0027 - accuracy: 1.0000 - val_loss: 2.2022 - val_accuracy: 0.6815\n",
            "Epoch 33/50\n",
            "782/782 [==============================] - 4s 6ms/step - loss: 0.0025 - accuracy: 1.0000 - val_loss: 2.2283 - val_accuracy: 0.6816\n",
            "Epoch 34/50\n",
            "782/782 [==============================] - 5s 6ms/step - loss: 0.0023 - accuracy: 1.0000 - val_loss: 2.2478 - val_accuracy: 0.6819\n",
            "Epoch 35/50\n",
            "782/782 [==============================] - 5s 7ms/step - loss: 0.0021 - accuracy: 1.0000 - val_loss: 2.2741 - val_accuracy: 0.6814\n",
            "Epoch 36/50\n",
            "782/782 [==============================] - 6s 8ms/step - loss: 0.0019 - accuracy: 1.0000 - val_loss: 2.2920 - val_accuracy: 0.6809\n",
            "Epoch 37/50\n",
            "782/782 [==============================] - 5s 6ms/step - loss: 0.0018 - accuracy: 1.0000 - val_loss: 2.3088 - val_accuracy: 0.6817\n",
            "Epoch 38/50\n",
            "782/782 [==============================] - 5s 6ms/step - loss: 0.0017 - accuracy: 1.0000 - val_loss: 2.3256 - val_accuracy: 0.6817\n",
            "Epoch 39/50\n",
            "782/782 [==============================] - 4s 6ms/step - loss: 0.0016 - accuracy: 1.0000 - val_loss: 2.3418 - val_accuracy: 0.6823\n",
            "Epoch 40/50\n",
            "782/782 [==============================] - 5s 6ms/step - loss: 0.0015 - accuracy: 1.0000 - val_loss: 2.3607 - val_accuracy: 0.6817\n",
            "Epoch 41/50\n",
            "782/782 [==============================] - 5s 6ms/step - loss: 0.0014 - accuracy: 1.0000 - val_loss: 2.3734 - val_accuracy: 0.6811\n",
            "Epoch 42/50\n",
            "782/782 [==============================] - 4s 6ms/step - loss: 0.0013 - accuracy: 1.0000 - val_loss: 2.3877 - val_accuracy: 0.6813\n",
            "Epoch 43/50\n",
            "782/782 [==============================] - 4s 6ms/step - loss: 0.0013 - accuracy: 1.0000 - val_loss: 2.4025 - val_accuracy: 0.6816\n",
            "Epoch 44/50\n",
            "782/782 [==============================] - 5s 6ms/step - loss: 0.0012 - accuracy: 1.0000 - val_loss: 2.4158 - val_accuracy: 0.6812\n",
            "Epoch 45/50\n",
            "782/782 [==============================] - 4s 6ms/step - loss: 0.0011 - accuracy: 1.0000 - val_loss: 2.4294 - val_accuracy: 0.6817\n",
            "Epoch 46/50\n",
            "782/782 [==============================] - 4s 6ms/step - loss: 0.0011 - accuracy: 1.0000 - val_loss: 2.4434 - val_accuracy: 0.6816\n",
            "Epoch 47/50\n",
            "782/782 [==============================] - 5s 6ms/step - loss: 0.0010 - accuracy: 1.0000 - val_loss: 2.4528 - val_accuracy: 0.6798\n",
            "Epoch 48/50\n",
            "782/782 [==============================] - 5s 6ms/step - loss: 9.9835e-04 - accuracy: 1.0000 - val_loss: 2.4657 - val_accuracy: 0.6799\n",
            "Epoch 49/50\n",
            "782/782 [==============================] - 5s 6ms/step - loss: 9.6098e-04 - accuracy: 1.0000 - val_loss: 2.4756 - val_accuracy: 0.6811\n",
            "Epoch 50/50\n",
            "782/782 [==============================] - 4s 6ms/step - loss: 9.2437e-04 - accuracy: 1.0000 - val_loss: 2.4885 - val_accuracy: 0.6812\n"
          ]
        },
        {
          "output_type": "execute_result",
          "data": {
            "text/plain": [
              "<keras.callbacks.History at 0x7fcf4022f910>"
            ]
          },
          "metadata": {},
          "execution_count": 22
        }
      ]
    },
    {
      "cell_type": "code",
      "source": [
        "results = model.evaluate(x_test , y_test , verbose = 1)\n",
        "results"
      ],
      "metadata": {
        "colab": {
          "base_uri": "https://localhost:8080/"
        },
        "id": "Kvj4YBbmP7NP",
        "outputId": "a51c8c3d-02eb-4032-ca8f-da9f17a835a2"
      },
      "id": "Kvj4YBbmP7NP",
      "execution_count": null,
      "outputs": [
        {
          "output_type": "stream",
          "name": "stdout",
          "text": [
            "313/313 [==============================] - 1s 3ms/step - loss: 2.4885 - accuracy: 0.6812\n"
          ]
        },
        {
          "output_type": "execute_result",
          "data": {
            "text/plain": [
              "[2.488542318344116, 0.6812000274658203]"
            ]
          },
          "metadata": {},
          "execution_count": 23
        }
      ]
    },
    {
      "cell_type": "markdown",
      "source": [
        "We get 68% accuracy , so now we will tune the parameters using Regularization (Dropout() and BatchNormalization())"
      ],
      "metadata": {
        "id": "HSXzjvAIQNfW"
      },
      "id": "HSXzjvAIQNfW"
    },
    {
      "cell_type": "code",
      "source": [
        "model = Sequential()\n",
        "\n",
        "# kernel_initializer = 'he_uniform' . Weights assigned would be uniform\n",
        "\n",
        "model.add(Conv2D(32 , (3,3) , padding = 'same' , activation = 'relu' , kernel_initializer = 'he_uniform' , input_shape = (32,32,3)))\n",
        "model.add(BatchNormalization())\n",
        "\n",
        "model.add(Conv2D(32 , (3,3) , padding = 'same' , activation = 'relu' , kernel_initializer = 'he_uniform'))\n",
        "model.add(BatchNormalization())\n",
        "model.add(MaxPooling2D((2,2)))\n",
        "model.add(Dropout(0.2)) # neurons with 20% probability will be ignored\n",
        "\n",
        "model.add(Conv2D(32 , (3,3) , padding = 'same' , activation = 'relu' , kernel_initializer = 'he_uniform' , input_shape = (32,32,3)))\n",
        "model.add(BatchNormalization())\n",
        "\n",
        "model.add(Conv2D(32 , (3,3) , padding = 'same' , activation = 'relu' , kernel_initializer = 'he_uniform'))\n",
        "model.add(BatchNormalization())\n",
        "model.add(MaxPooling2D((2,2)))\n",
        "model.add(Dropout(0.2)) # neurons with 20% probability will be ignored\n",
        "\n",
        "model.add(Conv2D(32 , (3,3) , padding = 'same' , activation = 'relu' , kernel_initializer = 'he_uniform' , input_shape = (32,32,3)))\n",
        "model.add(BatchNormalization())\n",
        "\n",
        "model.add(Conv2D(32 , (3,3) , padding = 'same' , activation = 'relu' , kernel_initializer = 'he_uniform'))\n",
        "model.add(BatchNormalization())\n",
        "model.add(MaxPooling2D((2,2)))\n",
        "model.add(Dropout(0.2))\n",
        "\n",
        "model.add(Flatten())\n",
        "\n",
        "model.add(Dense(128 , activation = 'relu' , kernel_initializer = 'he_uniform'))\n",
        "model.add(Dropout(0.2))\n",
        "model.add(Dense(10 , activation = 'softmax'))\n",
        "\n",
        "optimizer = SGD(learning_rate = 0.001 , momentum = 0.95)\n",
        "\n",
        "model.compile(optimizer = optimizer , loss = 'categorical_crossentropy' , metrics = ['accuracy'])\n",
        "model.fit(x_train , y_train , epochs = 50 , batch_size = 64 , verbose = 1 , validation_data = (x_test , y_test))\n",
        "\n",
        "model.evaluate(x_test , y_test)"
      ],
      "metadata": {
        "id": "KxYVMlZPQN1D",
        "colab": {
          "base_uri": "https://localhost:8080/"
        },
        "outputId": "191d63ed-01e9-410c-b18f-45041d837bba"
      },
      "id": "KxYVMlZPQN1D",
      "execution_count": 9,
      "outputs": [
        {
          "output_type": "stream",
          "name": "stdout",
          "text": [
            "Epoch 1/50\n",
            "782/782 [==============================] - 8s 9ms/step - loss: 1.7761 - accuracy: 0.3594 - val_loss: 1.4028 - val_accuracy: 0.4793\n",
            "Epoch 2/50\n",
            "782/782 [==============================] - 7s 8ms/step - loss: 1.4168 - accuracy: 0.4829 - val_loss: 1.3460 - val_accuracy: 0.5142\n",
            "Epoch 3/50\n",
            "782/782 [==============================] - 7s 8ms/step - loss: 1.2731 - accuracy: 0.5389 - val_loss: 1.1535 - val_accuracy: 0.5822\n",
            "Epoch 4/50\n",
            "782/782 [==============================] - 7s 9ms/step - loss: 1.1680 - accuracy: 0.5779 - val_loss: 1.1380 - val_accuracy: 0.5910\n",
            "Epoch 5/50\n",
            "782/782 [==============================] - 7s 8ms/step - loss: 1.0970 - accuracy: 0.6042 - val_loss: 1.0047 - val_accuracy: 0.6457\n",
            "Epoch 6/50\n",
            "782/782 [==============================] - 7s 8ms/step - loss: 1.0446 - accuracy: 0.6234 - val_loss: 1.0137 - val_accuracy: 0.6403\n",
            "Epoch 7/50\n",
            "782/782 [==============================] - 7s 10ms/step - loss: 0.9949 - accuracy: 0.6418 - val_loss: 0.9618 - val_accuracy: 0.6612\n",
            "Epoch 8/50\n",
            "782/782 [==============================] - 7s 8ms/step - loss: 0.9527 - accuracy: 0.6583 - val_loss: 0.9174 - val_accuracy: 0.6764\n",
            "Epoch 9/50\n",
            "782/782 [==============================] - 7s 8ms/step - loss: 0.9130 - accuracy: 0.6748 - val_loss: 0.8982 - val_accuracy: 0.6794\n",
            "Epoch 10/50\n",
            "782/782 [==============================] - 7s 8ms/step - loss: 0.8874 - accuracy: 0.6849 - val_loss: 0.9106 - val_accuracy: 0.6805\n",
            "Epoch 11/50\n",
            "782/782 [==============================] - 7s 8ms/step - loss: 0.8590 - accuracy: 0.6926 - val_loss: 0.8111 - val_accuracy: 0.7158\n",
            "Epoch 12/50\n",
            "782/782 [==============================] - 6s 8ms/step - loss: 0.8318 - accuracy: 0.7044 - val_loss: 0.7767 - val_accuracy: 0.7256\n",
            "Epoch 13/50\n",
            "782/782 [==============================] - 6s 8ms/step - loss: 0.8090 - accuracy: 0.7136 - val_loss: 0.7494 - val_accuracy: 0.7355\n",
            "Epoch 14/50\n",
            "782/782 [==============================] - 7s 8ms/step - loss: 0.7859 - accuracy: 0.7212 - val_loss: 0.8106 - val_accuracy: 0.7157\n",
            "Epoch 15/50\n",
            "782/782 [==============================] - 7s 8ms/step - loss: 0.7721 - accuracy: 0.7255 - val_loss: 0.7488 - val_accuracy: 0.7386\n",
            "Epoch 16/50\n",
            "782/782 [==============================] - 6s 8ms/step - loss: 0.7627 - accuracy: 0.7290 - val_loss: 0.8039 - val_accuracy: 0.7188\n",
            "Epoch 17/50\n",
            "782/782 [==============================] - 7s 8ms/step - loss: 0.7446 - accuracy: 0.7359 - val_loss: 0.7876 - val_accuracy: 0.7255\n",
            "Epoch 18/50\n",
            "782/782 [==============================] - 7s 9ms/step - loss: 0.7280 - accuracy: 0.7419 - val_loss: 0.7605 - val_accuracy: 0.7334\n",
            "Epoch 19/50\n",
            "782/782 [==============================] - 6s 8ms/step - loss: 0.7132 - accuracy: 0.7463 - val_loss: 0.6875 - val_accuracy: 0.7610\n",
            "Epoch 20/50\n",
            "782/782 [==============================] - 6s 8ms/step - loss: 0.7042 - accuracy: 0.7505 - val_loss: 0.6703 - val_accuracy: 0.7686\n",
            "Epoch 21/50\n",
            "782/782 [==============================] - 7s 9ms/step - loss: 0.6913 - accuracy: 0.7549 - val_loss: 0.7078 - val_accuracy: 0.7511\n",
            "Epoch 22/50\n",
            "782/782 [==============================] - 7s 8ms/step - loss: 0.6808 - accuracy: 0.7589 - val_loss: 0.6546 - val_accuracy: 0.7718\n",
            "Epoch 23/50\n",
            "782/782 [==============================] - 7s 8ms/step - loss: 0.6709 - accuracy: 0.7629 - val_loss: 0.6472 - val_accuracy: 0.7732\n",
            "Epoch 24/50\n",
            "782/782 [==============================] - 7s 9ms/step - loss: 0.6611 - accuracy: 0.7644 - val_loss: 0.6765 - val_accuracy: 0.7656\n",
            "Epoch 25/50\n",
            "782/782 [==============================] - 6s 8ms/step - loss: 0.6529 - accuracy: 0.7680 - val_loss: 0.6329 - val_accuracy: 0.7791\n",
            "Epoch 26/50\n",
            "782/782 [==============================] - 7s 9ms/step - loss: 0.6446 - accuracy: 0.7717 - val_loss: 0.6248 - val_accuracy: 0.7804\n",
            "Epoch 27/50\n",
            "782/782 [==============================] - 7s 9ms/step - loss: 0.6373 - accuracy: 0.7740 - val_loss: 0.6317 - val_accuracy: 0.7786\n",
            "Epoch 28/50\n",
            "782/782 [==============================] - 7s 8ms/step - loss: 0.6242 - accuracy: 0.7806 - val_loss: 0.6768 - val_accuracy: 0.7649\n",
            "Epoch 29/50\n",
            "782/782 [==============================] - 6s 8ms/step - loss: 0.6206 - accuracy: 0.7821 - val_loss: 0.6556 - val_accuracy: 0.7718\n",
            "Epoch 30/50\n",
            "782/782 [==============================] - 6s 8ms/step - loss: 0.6049 - accuracy: 0.7847 - val_loss: 0.6087 - val_accuracy: 0.7872\n",
            "Epoch 31/50\n",
            "782/782 [==============================] - 7s 9ms/step - loss: 0.5976 - accuracy: 0.7888 - val_loss: 0.6135 - val_accuracy: 0.7874\n",
            "Epoch 32/50\n",
            "782/782 [==============================] - 7s 9ms/step - loss: 0.5933 - accuracy: 0.7915 - val_loss: 0.6219 - val_accuracy: 0.7811\n",
            "Epoch 33/50\n",
            "782/782 [==============================] - 6s 8ms/step - loss: 0.5842 - accuracy: 0.7943 - val_loss: 0.7031 - val_accuracy: 0.7612\n",
            "Epoch 34/50\n",
            "782/782 [==============================] - 6s 8ms/step - loss: 0.5815 - accuracy: 0.7936 - val_loss: 0.5971 - val_accuracy: 0.7914\n",
            "Epoch 35/50\n",
            "782/782 [==============================] - 6s 8ms/step - loss: 0.5725 - accuracy: 0.7974 - val_loss: 0.6289 - val_accuracy: 0.7840\n",
            "Epoch 36/50\n",
            "782/782 [==============================] - 6s 8ms/step - loss: 0.5693 - accuracy: 0.7978 - val_loss: 0.6039 - val_accuracy: 0.7923\n",
            "Epoch 37/50\n",
            "782/782 [==============================] - 7s 9ms/step - loss: 0.5607 - accuracy: 0.7999 - val_loss: 0.5861 - val_accuracy: 0.7998\n",
            "Epoch 38/50\n",
            "782/782 [==============================] - 7s 9ms/step - loss: 0.5589 - accuracy: 0.8023 - val_loss: 0.7058 - val_accuracy: 0.7609\n",
            "Epoch 39/50\n",
            "782/782 [==============================] - 7s 8ms/step - loss: 0.5481 - accuracy: 0.8072 - val_loss: 0.5969 - val_accuracy: 0.7933\n",
            "Epoch 40/50\n",
            "782/782 [==============================] - 7s 8ms/step - loss: 0.5420 - accuracy: 0.8084 - val_loss: 0.5988 - val_accuracy: 0.7937\n",
            "Epoch 41/50\n",
            "782/782 [==============================] - 7s 9ms/step - loss: 0.5377 - accuracy: 0.8121 - val_loss: 0.5830 - val_accuracy: 0.7989\n",
            "Epoch 42/50\n",
            "782/782 [==============================] - 6s 8ms/step - loss: 0.5354 - accuracy: 0.8113 - val_loss: 0.5953 - val_accuracy: 0.7954\n",
            "Epoch 43/50\n",
            "782/782 [==============================] - 7s 8ms/step - loss: 0.5310 - accuracy: 0.8125 - val_loss: 0.5948 - val_accuracy: 0.7987\n",
            "Epoch 44/50\n",
            "782/782 [==============================] - 6s 8ms/step - loss: 0.5241 - accuracy: 0.8133 - val_loss: 0.6103 - val_accuracy: 0.7905\n",
            "Epoch 45/50\n",
            "782/782 [==============================] - 6s 8ms/step - loss: 0.5198 - accuracy: 0.8169 - val_loss: 0.5564 - val_accuracy: 0.8096\n",
            "Epoch 46/50\n",
            "782/782 [==============================] - 7s 9ms/step - loss: 0.5156 - accuracy: 0.8172 - val_loss: 0.5644 - val_accuracy: 0.8057\n",
            "Epoch 47/50\n",
            "782/782 [==============================] - 7s 8ms/step - loss: 0.5119 - accuracy: 0.8190 - val_loss: 0.5598 - val_accuracy: 0.8100\n",
            "Epoch 48/50\n",
            "782/782 [==============================] - 7s 8ms/step - loss: 0.5055 - accuracy: 0.8205 - val_loss: 0.5681 - val_accuracy: 0.8106\n",
            "Epoch 49/50\n",
            "782/782 [==============================] - 7s 9ms/step - loss: 0.4994 - accuracy: 0.8246 - val_loss: 0.5573 - val_accuracy: 0.8142\n",
            "Epoch 50/50\n",
            "782/782 [==============================] - 6s 8ms/step - loss: 0.4939 - accuracy: 0.8231 - val_loss: 0.5504 - val_accuracy: 0.8118\n",
            "313/313 [==============================] - 1s 3ms/step - loss: 0.5504 - accuracy: 0.8118\n"
          ]
        },
        {
          "output_type": "execute_result",
          "data": {
            "text/plain": [
              "[0.5504407286643982, 0.8118000030517578]"
            ]
          },
          "metadata": {},
          "execution_count": 9
        }
      ]
    }
  ],
  "metadata": {
    "kernelspec": {
      "display_name": "Python 3 (ipykernel)",
      "language": "python",
      "name": "python3"
    },
    "language_info": {
      "codemirror_mode": {
        "name": "ipython",
        "version": 3
      },
      "file_extension": ".py",
      "mimetype": "text/x-python",
      "name": "python",
      "nbconvert_exporter": "python",
      "pygments_lexer": "ipython3",
      "version": "3.10.0"
    },
    "colab": {
      "name": "Identifying objects with CNNs.ipynb",
      "provenance": [],
      "collapsed_sections": []
    },
    "accelerator": "GPU",
    "gpuClass": "standard"
  },
  "nbformat": 4,
  "nbformat_minor": 5
}